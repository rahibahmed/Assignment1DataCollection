{
 "cells": [
  {
   "cell_type": "code",
   "execution_count": 4,
   "id": "f40aea9a",
   "metadata": {},
   "outputs": [
    {
     "data": {
      "text/html": [
       "\n",
       "        <div>\n",
       "            <p><b>SparkContext</b></p>\n",
       "\n",
       "            <p><a href=\"http://192.168.2.69:4040\">Spark UI</a></p>\n",
       "\n",
       "            <dl>\n",
       "              <dt>Version</dt>\n",
       "                <dd><code>v3.2.1</code></dd>\n",
       "              <dt>Master</dt>\n",
       "                <dd><code>local[*]</code></dd>\n",
       "              <dt>AppName</dt>\n",
       "                <dd><code>pyspark-shell</code></dd>\n",
       "            </dl>\n",
       "        </div>\n",
       "        "
      ],
      "text/plain": [
       "<SparkContext master=local[*] appName=pyspark-shell>"
      ]
     },
     "execution_count": 4,
     "metadata": {},
     "output_type": "execute_result"
    }
   ],
   "source": [
    "import findspark\n",
    "import findspark\n",
    "findspark.init()\n",
    "from pyspark import SparkContext\n",
    "\n",
    "sc = SparkContext.getOrCreate()\n",
    "sc"
   ]
  },
  {
   "cell_type": "code",
   "execution_count": 5,
   "id": "9aebbc2c",
   "metadata": {},
   "outputs": [
    {
     "data": {
      "text/html": [
       "\n",
       "            <div>\n",
       "                <p><b>SparkSession - in-memory</b></p>\n",
       "                \n",
       "        <div>\n",
       "            <p><b>SparkContext</b></p>\n",
       "\n",
       "            <p><a href=\"http://192.168.2.69:4040\">Spark UI</a></p>\n",
       "\n",
       "            <dl>\n",
       "              <dt>Version</dt>\n",
       "                <dd><code>v3.2.1</code></dd>\n",
       "              <dt>Master</dt>\n",
       "                <dd><code>local[*]</code></dd>\n",
       "              <dt>AppName</dt>\n",
       "                <dd><code>pyspark-shell</code></dd>\n",
       "            </dl>\n",
       "        </div>\n",
       "        \n",
       "            </div>\n",
       "        "
      ],
      "text/plain": [
       "<pyspark.sql.session.SparkSession at 0x24356d014c0>"
      ]
     },
     "execution_count": 5,
     "metadata": {},
     "output_type": "execute_result"
    }
   ],
   "source": [
    "import findspark\n",
    "import findspark\n",
    "findspark.init()\n",
    "from pyspark.sql import SparkSession\n",
    "\n",
    "spark = SparkSession.builder.getOrCreate()\n",
    "spark"
   ]
  },
  {
   "cell_type": "markdown",
   "id": "13bf6473",
   "metadata": {},
   "source": [
    "# 1. Import Data Using Infer Schema"
   ]
  },
  {
   "cell_type": "code",
   "execution_count": 6,
   "id": "5f6cb492",
   "metadata": {},
   "outputs": [
    {
     "data": {
      "text/plain": [
       "Row(Province/State=None, Country/Region='Afghanistan', Lat=33.93911, Long=67.709953, Date='2020-01-22', Confirmed=0, Deaths=0, Recovered=0, Active=0, WHO Region='Eastern Mediterranean')"
      ]
     },
     "execution_count": 6,
     "metadata": {},
     "output_type": "execute_result"
    }
   ],
   "source": [
    "#defining file path and type\n",
    "csv_path = \"sample_data/covid_19_202001_202007.csv\"\n",
    "file_type = \"csv\"\n",
    "\n",
    "# Set up the parameters\n",
    "\n",
    "inferSchema = \"true\"\n",
    "firstRowHeader = \"true\"\n",
    "delimeter = \",\"\n",
    "\n",
    "# importing csv \n",
    "dataFrame = spark.read.format(file_type).option(\"inferSchema\", inferSchema) \\\n",
    "            .option(\"header\", firstRowHeader) \\\n",
    "            .option(\"sep\", delimeter) \\\n",
    "            .load(csv_path)\n",
    "dataFrame.head()"
   ]
  },
  {
   "cell_type": "markdown",
   "id": "956c3549",
   "metadata": {},
   "source": [
    "### Stage Id 2, shows the load time which is 87ms "
   ]
  },
  {
   "cell_type": "markdown",
   "id": "2572da52",
   "metadata": {},
   "source": [
    "<img src=\"https://github.com/rahibahmed/Assignment1DataCollection/blob/main/InferSchemaLoadTime.png?raw=true\" width=\"800\" height=\"400\">"
   ]
  },
  {
   "cell_type": "code",
   "execution_count": 7,
   "id": "c571a784",
   "metadata": {},
   "outputs": [
    {
     "name": "stdout",
     "output_type": "stream",
     "text": [
      "Province/State , string\n",
      "Country/Region , string\n",
      "Lat , double\n",
      "Long , double\n",
      "Date , string\n",
      "Confirmed , int\n",
      "Deaths , int\n",
      "Recovered , int\n",
      "Active , int\n",
      "WHO Region , string\n"
     ]
    }
   ],
   "source": [
    "# column name with their data type using inferSchema\n",
    "for column in dataFrame.dtypes:\n",
    "    print(column[0]+\" , \"+column[1])"
   ]
  },
  {
   "cell_type": "code",
   "execution_count": 8,
   "id": "cc48327c",
   "metadata": {},
   "outputs": [
    {
     "name": "stdout",
     "output_type": "stream",
     "text": [
      "+--------------+--------------+--------+---------+----------+---------+------+---------+------+--------------------+\n",
      "|Province/State|Country/Region|     Lat|     Long|      Date|Confirmed|Deaths|Recovered|Active|          WHO Region|\n",
      "+--------------+--------------+--------+---------+----------+---------+------+---------+------+--------------------+\n",
      "|          null|   Afghanistan|33.93911|67.709953|2020-01-22|        0|     0|        0|     0|Eastern Mediterra...|\n",
      "|          null|       Albania| 41.1533|  20.1683|2020-01-22|        0|     0|        0|     0|              Europe|\n",
      "+--------------+--------------+--------+---------+----------+---------+------+---------+------+--------------------+\n",
      "only showing top 2 rows\n",
      "\n"
     ]
    }
   ],
   "source": [
    "dataFrame.show(2)"
   ]
  },
  {
   "cell_type": "markdown",
   "id": "b780f3c7",
   "metadata": {},
   "source": [
    "# 2. Define Schema and import data "
   ]
  },
  {
   "cell_type": "code",
   "execution_count": 9,
   "id": "23ea0005",
   "metadata": {},
   "outputs": [
    {
     "data": {
      "text/plain": [
       "Row(State=None, Country='Afghanistan', Latitude=33.939109802246094, Longitude=67.70995330810547, Date=datetime.date(2020, 1, 22), Confirmed=0, Deaths=0, Recovered=0, Active=0, WHORegion='Eastern Mediterranean')"
      ]
     },
     "execution_count": 9,
     "metadata": {},
     "output_type": "execute_result"
    }
   ],
   "source": [
    "from pyspark.sql.types import StructType, StructField, StringType, IntegerType, DateType, FloatType\n",
    "\n",
    "customSchema = StructType([ \n",
    "    StructField(\"State\",StringType(),True), \n",
    "    StructField(\"Country\",StringType(),True), \n",
    "    StructField(\"Latitude\", FloatType(),True), \n",
    "    StructField(\"Longitude\", FloatType(), True), \n",
    "    StructField(\"Date\", DateType(), True), \n",
    "    StructField(\"Confirmed\", IntegerType(), True),\n",
    "    StructField(\"Deaths\", IntegerType(), True),\n",
    "    StructField(\"Recovered\", IntegerType(), True),\n",
    "    StructField(\"Active\", IntegerType(), True),\n",
    "    StructField(\"WHORegion\", StringType(), True),\n",
    "  ])\n",
    "df = spark.read.load(csv_path, format=file_type, header=firstRowHeader, sep=delimeter, schema=customSchema)\n",
    "df.head()"
   ]
  },
  {
   "cell_type": "markdown",
   "id": "24a92064",
   "metadata": {},
   "source": [
    "### Stage ID 4, displays the load time duration for customSchema which is 33ms\n",
    "### Stage ID 3, displays the showString method which is used on In[8]"
   ]
  },
  {
   "cell_type": "markdown",
   "id": "69527fed",
   "metadata": {},
   "source": [
    "<img src=\"https://github.com/rahibahmed/Assignment1DataCollection/blob/main/CustomSchema.png?raw=true\" width=\"800\" height=\"400\">"
   ]
  },
  {
   "cell_type": "code",
   "execution_count": 15,
   "id": "a38e2305",
   "metadata": {},
   "outputs": [
    {
     "name": "stdout",
     "output_type": "stream",
     "text": [
      "State , string\n",
      "Country , string\n",
      "Latitude , float\n",
      "Longitude , float\n",
      "Date , date\n",
      "Confirmed , int\n",
      "Deaths , int\n",
      "Recovered , int\n",
      "Active , int\n",
      "WHORegion , string\n"
     ]
    }
   ],
   "source": [
    "# column name with their data type using customSchema\n",
    "for column in df.dtypes:\n",
    "    print(column[0]+\" , \"+column[1])"
   ]
  },
  {
   "cell_type": "markdown",
   "id": "852e659f",
   "metadata": {},
   "source": [
    "# 3. Would you recommend creating a schema first before importing the data? Why?"
   ]
  },
  {
   "cell_type": "markdown",
   "id": "ba906437",
   "metadata": {},
   "source": [
    "# Ans\n",
    "\n",
    "## Yes, creating a schema before importing the data is a good habbit and removes any dataType discrepency from the schema.\n",
    "## As it can be seen from the example above, creating a inferSchema and loading the csv file resulted in wrong DataType of \"Date\" column, which is \"string\" making it harder to operate. On the other hand, creating a custom Schema defining the dataType of \"Date\" column as DateType, resulted in \"date\" DataType, as can be seen from the above example making it easier to perform further task."
   ]
  },
  {
   "cell_type": "markdown",
   "id": "89eceeaf",
   "metadata": {},
   "source": [
    "# 4. Provide summary statistics on the dataset"
   ]
  },
  {
   "cell_type": "code",
   "execution_count": 11,
   "id": "acd460ff",
   "metadata": {},
   "outputs": [
    {
     "name": "stdout",
     "output_type": "stream",
     "text": [
      "+-------+--------+-----------+------------------+-----------------+------------------+-----------------+-----------------+-----------------+---------------+\n",
      "|summary|   State|    Country|          Latitude|        Longitude|         Confirmed|           Deaths|        Recovered|           Active|      WHORegion|\n",
      "+-------+--------+-----------+------------------+-----------------+------------------+-----------------+-----------------+-----------------+---------------+\n",
      "|  count|   14664|      49068|             49068|            49068|             49068|            49068|            49068|            49068|          49068|\n",
      "|   mean|    null|       null|21.433730432456823|23.52823646406561| 16884.90425531915|884.1791595337083|7915.713479253282| 8085.01161653216|           null|\n",
      "| stddev|    null|       null|24.950319775168307|70.44273974868658|127300.20527228026|6313.584410596534|54800.91873054013|76258.90302550694|           null|\n",
      "|    min| Alberta|Afghanistan|          -51.7963|           -135.0|                 0|                0|                0|              -14|         Africa|\n",
      "|    max|Zhejiang|   Zimbabwe|           71.7069|          178.065|           4290259|           148011|          1846641|          2816444|Western Pacific|\n",
      "+-------+--------+-----------+------------------+-----------------+------------------+-----------------+-----------------+-----------------+---------------+\n",
      "\n"
     ]
    }
   ],
   "source": [
    "df.describe().show()"
   ]
  },
  {
   "cell_type": "markdown",
   "id": "74fff5a0",
   "metadata": {},
   "source": [
    "# 5. For top 10 countries suffering from covid-19, plot the line charts to show the deaths from Jan 22, 2020 to July 27, 2020?"
   ]
  },
  {
   "cell_type": "code",
   "execution_count": 16,
   "id": "bdf60194",
   "metadata": {},
   "outputs": [],
   "source": [
    "# Creating a Temp View and tied it to the spark session\n",
    "df.createOrReplaceTempView(\"covidSuffering\")"
   ]
  },
  {
   "cell_type": "code",
   "execution_count": 17,
   "id": "e14f32a5",
   "metadata": {},
   "outputs": [
    {
     "name": "stdout",
     "output_type": "stream",
     "text": [
      "+--------------+-----------+\n",
      "|       Country|totalDeaths|\n",
      "+--------------+-----------+\n",
      "|            US|   11011411|\n",
      "|United Kingdom|    3997775|\n",
      "|        Brazil|    3938034|\n",
      "|         Italy|    3707717|\n",
      "|        France|    3048524|\n",
      "|         Spain|    3033030|\n",
      "|        Mexico|    1728277|\n",
      "|         India|    1111831|\n",
      "|          Iran|    1024136|\n",
      "|       Belgium|     963679|\n",
      "+--------------+-----------+\n",
      "\n"
     ]
    }
   ],
   "source": [
    "suffer = spark.sql(\"SELECT Country, SUM(Deaths) as totalDeaths FROM covidSuffering WHERE Date BETWEEN '2020-01-22' AND '2020-07-27' GROUP BY Country ORDER BY totalDeaths DESC LIMIT 10\")\n",
    "suffer.show() "
   ]
  },
  {
   "cell_type": "code",
   "execution_count": 19,
   "id": "4c65db35",
   "metadata": {},
   "outputs": [
    {
     "data": {
      "text/plain": [
       "list"
      ]
     },
     "execution_count": 19,
     "metadata": {},
     "output_type": "execute_result"
    }
   ],
   "source": [
    "# display the type of dataframe\n",
    "type(suffer.take(10))"
   ]
  },
  {
   "cell_type": "code",
   "execution_count": 20,
   "id": "a94ad74d",
   "metadata": {
    "scrolled": false
   },
   "outputs": [
    {
     "data": {
      "image/png": "[encoded data removed]",
      "text/plain": [
       "<Figure size 1116x828 with 1 Axes>"
      ]
     },
     "metadata": {
      "needs_background": "light"
     },
     "output_type": "display_data"
    }
   ],
   "source": [
    "# Plotting the graph\n",
    "import matplotlib.pyplot as plt\n",
    "import numpy as np\n",
    "\n",
    "country = suffer.toPandas().Country.values\n",
    "deaths = suffer.toPandas().totalDeaths.values\n",
    "country\n",
    "fig = plt.gcf()\n",
    "fig.set_size_inches(15.5, 11.5)\n",
    "\n",
    "plt.plot(country, deaths)\n",
    "plt.ticklabel_format(style='plain', axis='y')\n",
    "plt.title('List of top 10 countries suffering from Covid, betweem Jan-2020 to July-2020', fontsize=14)\n",
    "plt.xlabel('Country', fontsize=14)\n",
    "plt.ylabel('Death Count', fontsize=14)\n",
    "\n",
    "plt.grid(True)\n",
    "plt.show()      "
   ]
  },
  {
   "cell_type": "markdown",
   "id": "73527ec1",
   "metadata": {},
   "source": [
    "# 6.\tPlot the recovery rate (recovered cases / confirmed cases) for the period Jan 22, 2020 to July 27, 2020. Which 5 countries have a relatively higher recovery rate?"
   ]
  },
  {
   "cell_type": "code",
   "execution_count": 26,
   "id": "b97d11a0",
   "metadata": {},
   "outputs": [],
   "source": [
    "df.createOrReplaceTempView(\"recoveryRate\")"
   ]
  },
  {
   "cell_type": "code",
   "execution_count": 27,
   "id": "6dd0a729",
   "metadata": {},
   "outputs": [
    {
     "name": "stdout",
     "output_type": "stream",
     "text": [
      "+--------------+------------------+\n",
      "|       Country|      RecoveryRate|\n",
      "+--------------+------------------+\n",
      "|         China| 4656.851147887325|\n",
      "|United Kingdom| 862.5994958001738|\n",
      "|        France|  862.418118091109|\n",
      "|     Australia| 856.7740016451787|\n",
      "|   Netherlands|258.76313614208885|\n",
      "+--------------+------------------+\n",
      "\n"
     ]
    }
   ],
   "source": [
    "# querying the data\n",
    "df_recoveryRate = spark.sql(\"SELECT Country, SUM(Recovered / Confirmed) AS RecoveryRate FROM recoveryRate WHERE Date BETWEEN '2020-01-22' AND '2020-07-27' GROUP BY Country ORDER BY RecoveryRate DESC LIMIT 5\") \n",
    "df_recoveryRate.show()"
   ]
  },
  {
   "cell_type": "code",
   "execution_count": 28,
   "id": "45f16179",
   "metadata": {},
   "outputs": [
    {
     "data": {
      "image/png": "[encoded data removed]",
      "text/plain": [
       "<Figure size 1116x684 with 1 Axes>"
      ]
     },
     "metadata": {
      "needs_background": "light"
     },
     "output_type": "display_data"
    }
   ],
   "source": [
    "# graph plot\n",
    "import matplotlib.pyplot as plt\n",
    "import numpy as np\n",
    "\n",
    "country = df_recoveryRate.toPandas().Country.values\n",
    "recoveryRate = df_recoveryRate.toPandas().RecoveryRate.values\n",
    "country\n",
    "\n",
    "fig = plt.gcf()\n",
    "fig.set_size_inches(15.5, 9.5)\n",
    "\n",
    "plt.plot(country, recoveryRate)\n",
    "plt.ticklabel_format(style='plain', axis='y')\n",
    "plt.title('List of top 5 countries recovery rate from Covid, between Jan-2020 to July-2020', fontsize=14)\n",
    "plt.xlabel('Country', fontsize=14)\n",
    "plt.ylabel('Recovery Rate', fontsize=14)\n",
    "\n",
    "plt.grid(True)\n",
    "plt.show() "
   ]
  },
  {
   "cell_type": "markdown",
   "id": "a723a8e7",
   "metadata": {},
   "source": [
    "# 7. As of July 27, 2020, aggregate the confirmed cases, deaths, recovered cases and active cases group by WHO region"
   ]
  },
  {
   "cell_type": "code",
   "execution_count": 31,
   "id": "a34f164c",
   "metadata": {},
   "outputs": [],
   "source": [
    "df.createOrReplaceTempView(\"byWHO\")"
   ]
  },
  {
   "cell_type": "code",
   "execution_count": 32,
   "id": "fd149e24",
   "metadata": {},
   "outputs": [
    {
     "name": "stdout",
     "output_type": "stream",
     "text": [
      "+--------------------+--------------+--------+--------------+-----------+\n",
      "|           WHORegion|ConfirmedCases|  Deaths|RecoveredCases|ActiveCases|\n",
      "+--------------------+--------------+--------+--------------+-----------+\n",
      "|              Europe|     248879793|19271040|     123202075|  106406678|\n",
      "|     Western Pacific|      26374411|  932430|      18861950|    6580031|\n",
      "|              Africa|      21791827|  439978|      11193730|   10158119|\n",
      "|Eastern Mediterra...|      74082892| 1924029|      48050703|   24108160|\n",
      "|            Americas|     402261194|19359292|     157069444|  225832458|\n",
      "|     South-East Asia|      55118365| 1458134|      30030327|   23629904|\n",
      "+--------------------+--------------+--------+--------------+-----------+\n",
      "\n"
     ]
    }
   ],
   "source": [
    "df_byWho = spark.sql(\"SELECT WHORegion, SUM(Confirmed) AS ConfirmedCases, SUM(Deaths) AS Deaths, SUM(Recovered) AS RecoveredCases, SUM(ACtive) AS ActiveCases FROM byWHO WHERE DATE BETWEEN '2020-01-22' AND '2020-07-27' GROUP BY WHORegion\")\n",
    "df_byWho.show()"
   ]
  },
  {
   "cell_type": "markdown",
   "id": "d10292e1",
   "metadata": {},
   "source": [
    "# 8.\tWhich 5 countries have the highest growth rate on confirmed cases 3 months after the 1st positive case detected within the country?"
   ]
  },
  {
   "cell_type": "code",
   "execution_count": 23,
   "id": "c6ba1dd7",
   "metadata": {},
   "outputs": [],
   "source": [
    "# creating a temp view for growthRate\n",
    "df.createOrReplaceTempView(\"growthRate\")"
   ]
  },
  {
   "cell_type": "code",
   "execution_count": 24,
   "id": "926d689e",
   "metadata": {},
   "outputs": [
    {
     "name": "stdout",
     "output_type": "stream",
     "text": [
      "+-------+-----------+---------+---------+----------+---------+------+---------+------+---------------+\n",
      "|  State|    Country| Latitude|Longitude|      Date|Confirmed|Deaths|Recovered|Active|      WHORegion|\n",
      "+-------+-----------+---------+---------+----------+---------+------+---------+------+---------------+\n",
      "|Guizhou|      China|  26.8154| 106.8748|2020-01-22|        1|     0|        0|     1|Western Pacific|\n",
      "| Fujian|      China|  26.0789| 117.9874|2020-01-22|        1|     0|        0|     1|Western Pacific|\n",
      "|   null|    Taiwan*|     23.7|    121.0|2020-01-22|        1|     0|        0|     1|Western Pacific|\n",
      "|   null|         US|     40.0|   -100.0|2020-01-22|        1|     0|        0|     1|       Americas|\n",
      "|  Macau|      China|  22.1667|   113.55|2020-01-22|        1|     0|        0|     1|Western Pacific|\n",
      "|Ningxia|      China|  37.2692| 106.1655|2020-01-22|        1|     0|        0|     1|Western Pacific|\n",
      "|  Anhui|      China|  31.8257| 117.2264|2020-01-22|        1|     0|        0|     1|Western Pacific|\n",
      "| Shanxi|      China|  37.5777| 112.2922|2020-01-22|        1|     0|        0|     1|Western Pacific|\n",
      "|  Hebei|      China|   39.549| 116.1306|2020-01-22|        1|     0|        0|     1|Western Pacific|\n",
      "| Yunnan|      China|   24.974|  101.487|2020-01-22|        1|     0|        0|     1|Western Pacific|\n",
      "|   null|South Korea|35.907757|127.76692|2020-01-22|        1|     0|        0|     1|Western Pacific|\n",
      "|Jiangsu|      China|  32.9711|  119.455|2020-01-22|        1|     0|        0|     1|Western Pacific|\n",
      "|  Hebei|      China|   39.549| 116.1306|2020-01-23|        1|     1|        0|     0|Western Pacific|\n",
      "|  Jilin|      China|  43.6661| 126.1923|2020-01-23|        1|     0|        0|     1|Western Pacific|\n",
      "|   null|South Korea|35.907757|127.76692|2020-01-23|        1|     0|        0|     1|Western Pacific|\n",
      "| Shanxi|      China|  37.5777| 112.2922|2020-01-23|        1|     0|        0|     1|Western Pacific|\n",
      "|Ningxia|      China|  37.2692| 106.1655|2020-01-23|        1|     0|        0|     1|Western Pacific|\n",
      "|   null|  Singapore|   1.2833| 103.8333|2020-01-23|        1|     0|        0|     1|Western Pacific|\n",
      "|   null|         US|     40.0|   -100.0|2020-01-23|        1|     0|        0|     1|       Americas|\n",
      "|   null|    Taiwan*|     23.7|    121.0|2020-01-23|        1|     0|        0|     1|Western Pacific|\n",
      "+-------+-----------+---------+---------+----------+---------+------+---------+------+---------------+\n",
      "only showing top 20 rows\n",
      "\n"
     ]
    }
   ],
   "source": [
    "# querying the data to get the first confirmed covid case in the country\n",
    "df_growthRate = spark.sql(\"SELECT * FROM growthRate WHERE Confirmed = 1 ORDER BY Date ASC\")\n",
    "df_growthRate.show()"
   ]
  },
  {
   "cell_type": "code",
   "execution_count": 29,
   "id": "47f432b9",
   "metadata": {
    "scrolled": false
   },
   "outputs": [
    {
     "name": "stdout",
     "output_type": "stream",
     "text": [
      "+-------+-------------+-----------+---------------------+----------+\n",
      "|Country|FirstCaseDate|PresentDate|PresentConfirmedCases|GrowthRate|\n",
      "+-------+-------------+-----------+---------------------+----------+\n",
      "|     US|   2020-01-22| 2020-04-22|               837422|     93.26|\n",
      "| Brazil|   2020-02-26| 2020-05-26|               391222|     72.14|\n",
      "|  Spain|   2020-02-01| 2020-05-01|               215216|     58.93|\n",
      "|   Peru|   2020-03-06| 2020-06-06|               191758|     56.67|\n",
      "| Turkey|   2020-03-11| 2020-06-11|               174023|     54.83|\n",
      "+-------+-------------+-----------+---------------------+----------+\n",
      "\n"
     ]
    }
   ],
   "source": [
    "# Removing the duplicate data from previous dataframe by Country and sorting the data by date, that way we get first \n",
    "# confirmed case date for each country\n",
    " \n",
    "df_growthRateDuplicate = df_growthRate.drop_duplicates(['Country']).orderBy([\"Date\"], ascending=[1, 1])\n",
    "\n",
    "# temp view for removing the duplicate date\n",
    "df_growthRateDuplicate.createOrReplaceTempView(\"growthDropDup\")\n",
    "\n",
    "# spark.sql(\"SELECT * FROM growthDropDup\").show(200)\n",
    "\n",
    "# joining two views to get the growth rate, 3 months from first covid case Joining on the country, Latitude and longitude\n",
    "# Formula used to calculate Growth Rate in period of 3 months \n",
    "# Present_Case = Present\n",
    "# Past_Case = Past\n",
    "# period = 3\n",
    "# Formula : ((Present / Past) ^ 1/3) - 1)\n",
    "\n",
    "\n",
    "df_growth = spark.sql(\"\"\"SELECT b.Country,b.Date AS FirstCaseDate, a.Date AS PresentDate, a.Confirmed AS PresentConfirmedCases, round((POWER(a.Confirmed/b.Confirmed, 1/3) - 1), 2) AS GrowthRate \n",
    "                  FROM growthDropDup AS b \n",
    "                  FULL OUTER JOIN growthRate AS a\n",
    "                  ON b.Country = a.Country AND b.Latitude = a.Latitude AND b.Longitude = a.Longitude \n",
    "                  WHERE a.Date = add_months(b.Date, 3)\n",
    "                  ORDER BY GrowthRate DESC\n",
    "                  LIMIT 5\n",
    "                  \"\"\")\n",
    "df_growth.show()"
   ]
  },
  {
   "cell_type": "markdown",
   "id": "e486531e",
   "metadata": {},
   "source": [
    "# 9.\tFor step 7, export the results to a JSON file"
   ]
  },
  {
   "cell_type": "code",
   "execution_count": null,
   "id": "94fa4157",
   "metadata": {},
   "outputs": [],
   "source": [
    "df_byWho.write.json(\"/tmp/spark_output/byWho.json\")"
   ]
  }
 ],
 "metadata": {
  "kernelspec": {
   "display_name": "Python 3 (ipykernel)",
   "language": "python",
   "name": "python3"
  },
  "language_info": {
   "codemirror_mode": {
    "name": "ipython",
    "version": 3
   },
   "file_extension": ".py",
   "mimetype": "text/x-python",
   "name": "python",
   "nbconvert_exporter": "python",
   "pygments_lexer": "ipython3",
   "version": "3.9.12"
  }
 },
 "nbformat": 4,
 "nbformat_minor": 5
}
