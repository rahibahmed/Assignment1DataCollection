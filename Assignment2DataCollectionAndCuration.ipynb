{
  "cells": [
    {
      "cell_type": "markdown",
      "metadata": {
        "id": "view-in-github",
        "colab_type": "text"
      },
      "source": [
        "<a href=\"https://colab.research.google.com/github/rahibahmed/Assignment1DataCollection/blob/main/Assignment2DataCollectionAndCuration.ipynb\" target=\"_parent\"><img src=\"https://colab.research.google.com/assets/colab-badge.svg\" alt=\"Open In Colab\"/></a>"
      ]
    },
    {
      "cell_type": "code",
      "source": [
        "!apt-get update #update linux\n",
        "!apt-get install openjdk-8-jdk-headless -qq > /dev/null #download and install openjdk\n",
        "!wget -q http://archive.apache.org/dist/spark/spark-3.2.1/spark-3.2.1-bin-hadoop2.7.tgz #download spark binary (gunzip). -q: Turn off Wget’s output.\n",
        "!tar xf spark-3.2.1-bin-hadoop2.7.tgz #extract the spark package\n",
        "!pip install -q findspark #install the findspark package"
      ],
      "metadata": {
        "id": "W7aKbIivUaIT",
        "outputId": "3a7de450-e40d-4231-b6cd-760b04a4f2b3",
        "colab": {
          "base_uri": "https://localhost:8080/"
        }
      },
      "execution_count": null,
      "outputs": [
        {
          "output_type": "stream",
          "name": "stdout",
          "text": [
            "\r0% [Working]\r            \rHit:1 https://developer.download.nvidia.com/compute/cuda/repos/ubuntu1804/x86_64  InRelease\n",
            "Get:2 https://cloud.r-project.org/bin/linux/ubuntu bionic-cran40/ InRelease [3,626 B]\n",
            "Ign:3 https://developer.download.nvidia.com/compute/machine-learning/repos/ubuntu1804/x86_64  InRelease\n",
            "Hit:4 https://developer.download.nvidia.com/compute/machine-learning/repos/ubuntu1804/x86_64  Release\n",
            "Hit:5 http://ppa.launchpad.net/c2d4u.team/c2d4u4.0+/ubuntu bionic InRelease\n",
            "Get:6 http://security.ubuntu.com/ubuntu bionic-security InRelease [88.7 kB]\n",
            "Get:7 https://cloud.r-project.org/bin/linux/ubuntu bionic-cran40/ Packages [85.6 kB]\n",
            "Hit:8 http://archive.ubuntu.com/ubuntu bionic InRelease\n",
            "Get:10 http://archive.ubuntu.com/ubuntu bionic-updates InRelease [88.7 kB]\n",
            "Hit:11 http://ppa.launchpad.net/cran/libgit2/ubuntu bionic InRelease\n",
            "Hit:12 http://ppa.launchpad.net/deadsnakes/ppa/ubuntu bionic InRelease\n",
            "Get:13 http://archive.ubuntu.com/ubuntu bionic-backports InRelease [74.6 kB]\n",
            "Hit:14 http://ppa.launchpad.net/graphics-drivers/ppa/ubuntu bionic InRelease\n",
            "Get:15 http://security.ubuntu.com/ubuntu bionic-security/universe amd64 Packages [1,526 kB]\n",
            "Get:16 http://archive.ubuntu.com/ubuntu bionic-updates/main amd64 Packages [3,329 kB]\n",
            "Get:17 http://security.ubuntu.com/ubuntu bionic-security/restricted amd64 Packages [1,057 kB]\n",
            "Get:18 http://archive.ubuntu.com/ubuntu bionic-updates/universe amd64 Packages [2,302 kB]\n",
            "Get:19 http://security.ubuntu.com/ubuntu bionic-security/main amd64 Packages [2,897 kB]\n",
            "Fetched 11.5 MB in 4s (2,937 kB/s)\n",
            "Reading package lists... Done\n"
          ]
        }
      ]
    },
    {
      "cell_type": "code",
      "source": [
        "#set environment variables\n",
        "import os \n",
        "os.environ[\"JAVA_HOME\"] = \"/usr/lib/jvm/java-11-openjdk-amd64\"\n",
        "os.environ[\"SPARK_HOME\"] = \"/content/spark-3.2.1-bin-hadoop2.7\""
      ],
      "metadata": {
        "id": "WXpKttPuUcwO"
      },
      "execution_count": null,
      "outputs": []
    },
    {
      "cell_type": "code",
      "source": [
        "# From Spark 2.0, SparkSession provides a common entry point for a Spark application\n",
        "import findspark\n",
        "findspark.init()\n",
        "from pyspark.sql import SparkSession\n",
        "spark = SparkSession.builder.getOrCreate() \n",
        "spark.conf.set('spark.sql.shuffle.partitions', 6)\n",
        "# spark.conf.set('spark.executor.memory', '2g')\n",
        "spark"
      ],
      "metadata": {
        "id": "NRns02VfUkG1",
        "outputId": "6f852a30-d6c7-4e3b-baca-9f3a1bd95819",
        "colab": {
          "base_uri": "https://localhost:8080/",
          "height": 219
        }
      },
      "execution_count": null,
      "outputs": [
        {
          "output_type": "execute_result",
          "data": {
            "text/plain": [
              "<pyspark.sql.session.SparkSession at 0x7faa57b35b90>"
            ],
            "text/html": [
              "\n",
              "            <div>\n",
              "                <p><b>SparkSession - in-memory</b></p>\n",
              "                \n",
              "        <div>\n",
              "            <p><b>SparkContext</b></p>\n",
              "\n",
              "            <p><a href=\"http://281ccdba709c:4040\">Spark UI</a></p>\n",
              "\n",
              "            <dl>\n",
              "              <dt>Version</dt>\n",
              "                <dd><code>v3.2.1</code></dd>\n",
              "              <dt>Master</dt>\n",
              "                <dd><code>local[*]</code></dd>\n",
              "              <dt>AppName</dt>\n",
              "                <dd><code>pyspark-shell</code></dd>\n",
              "            </dl>\n",
              "        </div>\n",
              "        \n",
              "            </div>\n",
              "        "
            ]
          },
          "metadata": {},
          "execution_count": 3
        }
      ]
    },
    {
      "cell_type": "code",
      "source": [
        "!ls"
      ],
      "metadata": {
        "id": "1EZ4Tl_AUlgF",
        "outputId": "b2fcbb98-f888-469c-d33b-5acf4f6c06de",
        "colab": {
          "base_uri": "https://localhost:8080/"
        }
      },
      "execution_count": null,
      "outputs": [
        {
          "output_type": "stream",
          "name": "stdout",
          "text": [
            "sample_data  spark-3.2.1-bin-hadoop2.7\tspark-3.2.1-bin-hadoop2.7.tgz\n"
          ]
        }
      ]
    },
    {
      "cell_type": "code",
      "source": [
        "!ls sample_data  "
      ],
      "metadata": {
        "id": "3OGTiikzUnSl",
        "outputId": "4a6b3691-6a76-42fb-fd14-782730e9df99",
        "colab": {
          "base_uri": "https://localhost:8080/"
        }
      },
      "execution_count": null,
      "outputs": [
        {
          "output_type": "stream",
          "name": "stdout",
          "text": [
            "anscombe.json\t\t      mnist_test.csv\t     POI.csv\n",
            "california_housing_test.csv   mnist_train_small.csv  README.md\n",
            "california_housing_train.csv  orders_data.zip\n"
          ]
        }
      ]
    },
    {
      "cell_type": "markdown",
      "source": [
        "##UNZIP THE ORDERSDATA"
      ],
      "metadata": {
        "id": "eneCDNout8gR"
      }
    },
    {
      "cell_type": "code",
      "source": [
        "!unzip -q sample_data/orders_data.zip -d sample_data/orders_data"
      ],
      "metadata": {
        "id": "tXw79TxzUypt"
      },
      "execution_count": null,
      "outputs": []
    },
    {
      "cell_type": "code",
      "source": [
        "!ls sample_data/orders_data"
      ],
      "metadata": {
        "id": "9deRM-Y0U-Rk",
        "outputId": "0fe4d328-7648-4bb7-d2bd-136175f1963e",
        "colab": {
          "base_uri": "https://localhost:8080/"
        }
      },
      "execution_count": null,
      "outputs": [
        {
          "output_type": "stream",
          "name": "stdout",
          "text": [
            "orders_100.csv\torders_28.csv  orders_46.csv  orders_64.csv  orders_82.csv\n",
            "orders_10.csv\torders_29.csv  orders_47.csv  orders_65.csv  orders_83.csv\n",
            "orders_11.csv\torders_2.csv   orders_48.csv  orders_66.csv  orders_84.csv\n",
            "orders_12.csv\torders_30.csv  orders_49.csv  orders_67.csv  orders_85.csv\n",
            "orders_13.csv\torders_31.csv  orders_4.csv   orders_68.csv  orders_86.csv\n",
            "orders_14.csv\torders_32.csv  orders_50.csv  orders_69.csv  orders_87.csv\n",
            "orders_15.csv\torders_33.csv  orders_51.csv  orders_6.csv   orders_88.csv\n",
            "orders_16.csv\torders_34.csv  orders_52.csv  orders_70.csv  orders_89.csv\n",
            "orders_17.csv\torders_35.csv  orders_53.csv  orders_71.csv  orders_8.csv\n",
            "orders_18.csv\torders_36.csv  orders_54.csv  orders_72.csv  orders_90.csv\n",
            "orders_19.csv\torders_37.csv  orders_55.csv  orders_73.csv  orders_91.csv\n",
            "orders_1.csv\torders_38.csv  orders_56.csv  orders_74.csv  orders_92.csv\n",
            "orders_20.csv\torders_39.csv  orders_57.csv  orders_75.csv  orders_93.csv\n",
            "orders_21.csv\torders_3.csv   orders_58.csv  orders_76.csv  orders_94.csv\n",
            "orders_22.csv\torders_40.csv  orders_59.csv  orders_77.csv  orders_95.csv\n",
            "orders_23.csv\torders_41.csv  orders_5.csv   orders_78.csv  orders_96.csv\n",
            "orders_24.csv\torders_42.csv  orders_60.csv  orders_79.csv  orders_97.csv\n",
            "orders_25.csv\torders_43.csv  orders_61.csv  orders_7.csv   orders_98.csv\n",
            "orders_26.csv\torders_44.csv  orders_62.csv  orders_80.csv  orders_99.csv\n",
            "orders_27.csv\torders_45.csv  orders_63.csv  orders_81.csv  orders_9.csv\n"
          ]
        }
      ]
    },
    {
      "cell_type": "markdown",
      "source": [
        "##**1. IMPORT DATA DEFINED BY ORDER SCHEMA**"
      ],
      "metadata": {
        "id": "89dO0MDLuRsd"
      }
    },
    {
      "cell_type": "code",
      "source": [
        "from pyspark.sql.types import *\n",
        "\n",
        "file_location = \"sample_data/orders_data/orders_*.csv\"\n",
        "\n",
        "# create schema\n",
        "ordersSchema = StructType([\n",
        "  StructField(\"Order_ID\", DoubleType(), True),\n",
        "  StructField(\"Country\", StringType(), True),\n",
        "  StructField(\"Province\", StringType(), True),\n",
        "  StructField(\"City\", StringType(), True),\n",
        "  StructField(\"Latitude\", DoubleType(), True),\n",
        "  StructField(\"Longitude\", DoubleType(), True),\n",
        "  StructField(\"TimeStamp\", StringType(), True),\n",
        "  StructField(\"Sales_Volume\", DoubleType(), True)\n",
        "  ])\n",
        "\n",
        "# create DataFrame \n",
        "data = (\n",
        "  spark\n",
        "    .read\n",
        "    .schema(ordersSchema)\n",
        "    .csv(file_location)\n",
        ")\n",
        "\n",
        "\n",
        "# create table for SQL analytics\n",
        "data.createOrReplaceTempView(\"orders\")\n",
        "\n",
        "data.show()"
      ],
      "metadata": {
        "id": "cyDJnVqyVGJN",
        "outputId": "d8455d94-aa05-4c93-8191-f18deb5eb449",
        "colab": {
          "base_uri": "https://localhost:8080/"
        }
      },
      "execution_count": null,
      "outputs": [
        {
          "output_type": "stream",
          "name": "stdout",
          "text": [
            "+--------+-------+--------+--------------------+---------+---------+-------------------+------------+\n",
            "|Order_ID|Country|Province|                City| Latitude|Longitude|          TimeStamp|Sales_Volume|\n",
            "+--------+-------+--------+--------------------+---------+---------+-------------------+------------+\n",
            "|231542.0| Canada|      AB|             Calgary|-113.9835|-113.9389|2022/04/22 08:28:49|       41.49|\n",
            "|473450.0| Canada|      AB|            Edmonton|-113.4467|-113.3654|2022/04/22 05:04:24|       48.52|\n",
            "|376604.0| Canada|      AB|        Medicine Hat|-110.5798|-110.4884|2022/04/22 18:14:14|       60.79|\n",
            "|440105.0| Canada|      AB|       Sherwood Park|-113.2427| -113.242|2022/04/22 11:27:20|       77.81|\n",
            "|483058.0| Canada|      AB|            Beaumont|-113.3783|-113.2894|2022/04/22 21:04:24|       12.06|\n",
            "|303271.0| Canada|      AB|            Edmonton|-113.3609|-113.3519|2022/04/22 06:32:45|        99.0|\n",
            "|444942.0| Canada|      AB|       Fort Mcmurray|-111.4019|-111.4018|2022/04/22 10:44:56|       11.83|\n",
            "|477498.0| Canada|      NB|Macdougall Settle...| -64.7586| -64.6739|2022/04/22 04:11:29|        13.5|\n",
            "|250410.0| Canada|      AB|       Sherwood Park|-113.2142|-113.1836|2022/04/22 10:51:42|       48.38|\n",
            "|317257.0| Canada|      AB|         Fort Mackay|-111.4923|-111.4908|2022/04/22 03:45:16|       11.91|\n",
            "|271051.0| Canada|      ON|              Milton| -79.8018| -79.7156|2022/04/22 02:51:53|       80.74|\n",
            "|242527.0| Canada|      AB|             Calgary|-113.9316|-113.8966|2022/04/22 09:42:40|        61.4|\n",
            "|363883.0| Canada|      ON|            Brampton|  -79.712| -79.6918|2022/04/22 23:28:53|       68.76|\n",
            "|432813.0| Canada|      ON|       Richmond Hill| -79.3341|  -79.325|2022/04/22 15:50:34|       59.05|\n",
            "|449879.0| Canada|      QC|               Laval| -73.7235| -73.6431|2022/04/22 22:59:29|       92.37|\n",
            "|455167.0| Canada|      NS|              Sydney|  -60.119| -60.1075|2022/04/22 18:59:53|       89.23|\n",
            "|219972.0| Canada|      ON|       Richmond Hill| -79.3696| -79.2793|2022/04/22 14:34:03|        5.22|\n",
            "|475590.0| Canada|      ON|             Windsor| -83.0281| -82.9607|2022/04/22 20:11:19|        1.35|\n",
            "|213890.0| Canada|      BC|            Richmond|-122.9574|-122.8935|2022/04/22 18:11:25|        8.37|\n",
            "|302898.0| Canada|      QC|        Charlesbourg| -71.2374| -71.1506|2022/04/22 01:54:45|       30.06|\n",
            "+--------+-------+--------+--------------------+---------+---------+-------------------+------------+\n",
            "only showing top 20 rows\n",
            "\n"
          ]
        }
      ]
    },
    {
      "cell_type": "markdown",
      "source": [
        "###**Creating Data Stream for ordersSchema**"
      ],
      "metadata": {
        "id": "GaGDuVsxucH_"
      }
    },
    {
      "cell_type": "code",
      "source": [
        "from pyspark.sql.functions import *\n",
        "\n",
        "# create streaming DF\n",
        "streamingDF = (\n",
        "  spark\n",
        "    .readStream                       \n",
        "    .schema(ordersSchema)              # schema for the streaming DF\n",
        "    .option(\"maxFilesPerTrigger\", 1)  # Form a stream by triggering one file at a time\n",
        "    .csv(file_location)\n",
        ")\n",
        "\n",
        "# Is it a streaming DF?\n",
        "print(streamingDF.isStreaming)"
      ],
      "metadata": {
        "id": "6JPcEu19VLPG",
        "outputId": "d3aa27a6-2f5c-4106-f524-eaeb5a863d50",
        "colab": {
          "base_uri": "https://localhost:8080/"
        }
      },
      "execution_count": null,
      "outputs": [
        {
          "output_type": "stream",
          "name": "stdout",
          "text": [
            "True\n"
          ]
        }
      ]
    },
    {
      "cell_type": "markdown",
      "source": [
        "###**Creating temp view for dataframe**"
      ],
      "metadata": {
        "id": "9Y0GJY8uunii"
      }
    },
    {
      "cell_type": "code",
      "source": [
        "streamingDF.createOrReplaceTempView(\"ordersSQL\")"
      ],
      "metadata": {
        "id": "U0znUjmhqKXG"
      },
      "execution_count": null,
      "outputs": []
    },
    {
      "cell_type": "markdown",
      "source": [
        "###**Unique Cities in the dataset**"
      ],
      "metadata": {
        "id": "qH7YljktTuM3"
      }
    },
    {
      "cell_type": "code",
      "source": [
        "uniqueCity = spark.sql(\"SELECT count(distinct city) as UniqueCity FROM all_orders\")\n",
        "uniqueCity.show()"
      ],
      "metadata": {
        "colab": {
          "base_uri": "https://localhost:8080/"
        },
        "id": "fvEA7GqATdXz",
        "outputId": "2092a84f-ee6a-4c6f-c2dc-2f95eda445b6"
      },
      "execution_count": null,
      "outputs": [
        {
          "output_type": "stream",
          "name": "stdout",
          "text": [
            "+----------+\n",
            "|UniqueCity|\n",
            "+----------+\n",
            "|       619|\n",
            "+----------+\n",
            "\n"
          ]
        }
      ]
    },
    {
      "cell_type": "markdown",
      "source": [
        "###**Querying the dataframe**"
      ],
      "metadata": {
        "id": "L3soRNKRuwgY"
      }
    },
    {
      "cell_type": "code",
      "source": [
        "streamVol = spark.sql(\"SELECT Province, TimeStamp from ordersSQL GROUP BY Province, TimeStamp ORDER BY TimeStamp DESC\")"
      ],
      "metadata": {
        "id": "s9WEpYwdqOUT"
      },
      "execution_count": null,
      "outputs": []
    },
    {
      "cell_type": "markdown",
      "source": [
        "###**Write Stream to display query results**"
      ],
      "metadata": {
        "id": "le5ZUyTvu4Kg"
      }
    },
    {
      "cell_type": "code",
      "source": [
        "query = (\n",
        "  streamVol\n",
        "    .writeStream\n",
        "    .format(\"memory\")        # store in-memory table\n",
        "    .queryName(\"orders_k\")     \n",
        "    .outputMode(\"complete\")  \n",
        "    .start()\n",
        ")"
      ],
      "metadata": {
        "id": "KbawurkPqxob"
      },
      "execution_count": null,
      "outputs": []
    },
    {
      "cell_type": "markdown",
      "source": [
        "##**2. Latest time of the order that was made in the province**"
      ],
      "metadata": {
        "id": "L-mx0lBavVxb"
      }
    },
    {
      "cell_type": "code",
      "source": [
        "spark.sql(\"SELECT Province, MAX(TimeStamp) TimeStamp FROM orders_k GROUP BY Province\").show()"
      ],
      "metadata": {
        "colab": {
          "base_uri": "https://localhost:8080/"
        },
        "id": "Khvmm6BpsIqP",
        "outputId": "48e943b5-1e18-4aa7-c3a5-449466816ba7"
      },
      "execution_count": null,
      "outputs": [
        {
          "output_type": "stream",
          "name": "stdout",
          "text": [
            "+--------+-------------------+\n",
            "|Province|          TimeStamp|\n",
            "+--------+-------------------+\n",
            "|      AB|2022/04/23 01:13:04|\n",
            "|      BC|2022/04/23 01:05:14|\n",
            "|      MB|2022/04/23 00:25:42|\n",
            "|      NB|2022/04/23 00:47:52|\n",
            "|      NL|2022/04/23 00:36:20|\n",
            "|      NS|2022/04/23 00:19:17|\n",
            "|      NT|2022/04/22 17:33:18|\n",
            "|      ON|2022/04/23 01:18:38|\n",
            "|      PE|2022/04/22 23:23:21|\n",
            "|      QC|2022/04/23 01:17:12|\n",
            "|      SK|2022/04/23 01:19:30|\n",
            "|      YT|2022/04/22 20:48:47|\n",
            "+--------+-------------------+\n",
            "\n"
          ]
        }
      ]
    },
    {
      "cell_type": "markdown",
      "source": [
        "###Query Check 1 for province YT"
      ],
      "metadata": {
        "id": "QwScLoy0v89L"
      }
    },
    {
      "cell_type": "code",
      "source": [
        "spark.sql(\"SELECT Province, TimeStamp FROM orders_k Where Province='YT' order by TimeStamp DESC\").show()"
      ],
      "metadata": {
        "colab": {
          "base_uri": "https://localhost:8080/"
        },
        "id": "5xSjW29stedw",
        "outputId": "c63cbc19-87ee-4aeb-811f-ddba4e4983ba"
      },
      "execution_count": null,
      "outputs": [
        {
          "output_type": "stream",
          "name": "stdout",
          "text": [
            "+--------+-------------------+\n",
            "|Province|          TimeStamp|\n",
            "+--------+-------------------+\n",
            "|      YT|2022/04/22 20:48:47|\n",
            "|      YT|2022/04/22 07:53:22|\n",
            "|      YT|2022/04/22 05:09:08|\n",
            "+--------+-------------------+\n",
            "\n"
          ]
        }
      ]
    },
    {
      "cell_type": "markdown",
      "source": [
        "###Query Check 1 for province AB"
      ],
      "metadata": {
        "id": "UoCZ6eXXwCXJ"
      }
    },
    {
      "cell_type": "code",
      "source": [
        "spark.sql(\"SELECT Province, TimeStamp FROM orders_k Where Province='AB' order by TimeStamp DESC\").show(5)"
      ],
      "metadata": {
        "id": "YgIF7tQEyGFT",
        "colab": {
          "base_uri": "https://localhost:8080/"
        },
        "outputId": "720791df-6387-4f35-8ea6-5ba64c287ac2"
      },
      "execution_count": null,
      "outputs": [
        {
          "output_type": "stream",
          "name": "stdout",
          "text": [
            "+--------+-------------------+\n",
            "|Province|          TimeStamp|\n",
            "+--------+-------------------+\n",
            "|      AB|2022/04/23 01:13:04|\n",
            "|      AB|2022/04/23 01:09:22|\n",
            "|      AB|2022/04/23 01:07:05|\n",
            "|      AB|2022/04/23 01:06:51|\n",
            "|      AB|2022/04/23 01:02:53|\n",
            "+--------+-------------------+\n",
            "only showing top 5 rows\n",
            "\n"
          ]
        }
      ]
    },
    {
      "cell_type": "markdown",
      "source": [
        "##**3. Import POI data set**"
      ],
      "metadata": {
        "id": "h32LA83RwQ14"
      }
    },
    {
      "cell_type": "code",
      "source": [
        "from pyspark.sql.types import *\n",
        "\n",
        "file_location_POI = \"sample_data/POI.csv\"\n",
        "\n",
        "# create schema\n",
        "poi = StructType([\n",
        "  StructField(\"POI_ID\", StringType(), True),\n",
        "  StructField(\"Latitude_POI\", DoubleType(), True),\n",
        "  StructField(\"Longitude_POI\", DoubleType(), True)\n",
        "  ])\n",
        "inferSchema = \"true\"\n",
        "firstRowHeader = \"true\"\n",
        "delimeter = \",\"\n",
        "file_type = \"csv\"\n",
        "# create DataFrame \n",
        "df_poi = (\n",
        "  spark.read.load(file_location_POI,format=file_type, header=firstRowHeader, sep=delimeter, schema=poi)\n",
        ")\n",
        "\n",
        "\n",
        "# create table for SQL analytics\n",
        "data.createOrReplaceTempView(\"poi\")\n",
        "\n",
        "data.show()"
      ],
      "metadata": {
        "colab": {
          "base_uri": "https://localhost:8080/"
        },
        "id": "ppHGAWvFtzxU",
        "outputId": "62cbdafa-3144-482f-fab3-239ecbb3cbac"
      },
      "execution_count": null,
      "outputs": [
        {
          "output_type": "stream",
          "name": "stdout",
          "text": [
            "+--------+-------+--------+--------------------+---------+---------+-------------------+------------+\n",
            "|Order_ID|Country|Province|                City| Latitude|Longitude|          TimeStamp|Sales_Volume|\n",
            "+--------+-------+--------+--------------------+---------+---------+-------------------+------------+\n",
            "|231542.0| Canada|      AB|             Calgary|-113.9835|-113.9389|2022/04/22 08:28:49|       41.49|\n",
            "|473450.0| Canada|      AB|            Edmonton|-113.4467|-113.3654|2022/04/22 05:04:24|       48.52|\n",
            "|376604.0| Canada|      AB|        Medicine Hat|-110.5798|-110.4884|2022/04/22 18:14:14|       60.79|\n",
            "|440105.0| Canada|      AB|       Sherwood Park|-113.2427| -113.242|2022/04/22 11:27:20|       77.81|\n",
            "|483058.0| Canada|      AB|            Beaumont|-113.3783|-113.2894|2022/04/22 21:04:24|       12.06|\n",
            "|303271.0| Canada|      AB|            Edmonton|-113.3609|-113.3519|2022/04/22 06:32:45|        99.0|\n",
            "|444942.0| Canada|      AB|       Fort Mcmurray|-111.4019|-111.4018|2022/04/22 10:44:56|       11.83|\n",
            "|477498.0| Canada|      NB|Macdougall Settle...| -64.7586| -64.6739|2022/04/22 04:11:29|        13.5|\n",
            "|250410.0| Canada|      AB|       Sherwood Park|-113.2142|-113.1836|2022/04/22 10:51:42|       48.38|\n",
            "|317257.0| Canada|      AB|         Fort Mackay|-111.4923|-111.4908|2022/04/22 03:45:16|       11.91|\n",
            "|271051.0| Canada|      ON|              Milton| -79.8018| -79.7156|2022/04/22 02:51:53|       80.74|\n",
            "|242527.0| Canada|      AB|             Calgary|-113.9316|-113.8966|2022/04/22 09:42:40|        61.4|\n",
            "|363883.0| Canada|      ON|            Brampton|  -79.712| -79.6918|2022/04/22 23:28:53|       68.76|\n",
            "|432813.0| Canada|      ON|       Richmond Hill| -79.3341|  -79.325|2022/04/22 15:50:34|       59.05|\n",
            "|449879.0| Canada|      QC|               Laval| -73.7235| -73.6431|2022/04/22 22:59:29|       92.37|\n",
            "|455167.0| Canada|      NS|              Sydney|  -60.119| -60.1075|2022/04/22 18:59:53|       89.23|\n",
            "|219972.0| Canada|      ON|       Richmond Hill| -79.3696| -79.2793|2022/04/22 14:34:03|        5.22|\n",
            "|475590.0| Canada|      ON|             Windsor| -83.0281| -82.9607|2022/04/22 20:11:19|        1.35|\n",
            "|213890.0| Canada|      BC|            Richmond|-122.9574|-122.8935|2022/04/22 18:11:25|        8.37|\n",
            "|302898.0| Canada|      QC|        Charlesbourg| -71.2374| -71.1506|2022/04/22 01:54:45|       30.06|\n",
            "+--------+-------+--------+--------------------+---------+---------+-------------------+------------+\n",
            "only showing top 20 rows\n",
            "\n"
          ]
        }
      ]
    },
    {
      "cell_type": "markdown",
      "source": [
        "##**4. Distance between order and POI_ID**"
      ],
      "metadata": {
        "id": "WP6nSDLkxQhx"
      }
    },
    {
      "cell_type": "code",
      "source": [
        "from pyspark.sql import functions as F\n",
        "from pyspark.sql import DataFrameWriter as W\n",
        "from math import radians, cos, sin, asin, sqrt\n",
        "\n",
        "def get_distance(longit_a, latit_a, longit_b, latit_b):\n",
        "# Transform to radians\n",
        "  print(\"inside\")\n",
        "  longit_a, latit_a, longit_b, latit_b = map(radians, [longit_a,  latit_a, longit_b, latit_b])\n",
        "  \n",
        "  dist_longit = longit_b - longit_a\n",
        "  dist_latit = latit_b - latit_a\n",
        "  print(dist_latit)\n",
        "# Calculate area\n",
        "  area = sin(dist_latit/2)**2 + cos(latit_a) * cos(latit_b) * sin(dist_longit/2)**2\n",
        "# Calculate the central angle\n",
        "  central_angle = 2 * asin(sqrt(area))\n",
        "  radius = 6371\n",
        "# Calculate Distance\n",
        "  distance = central_angle * radius\n",
        "  return distance"
      ],
      "metadata": {
        "id": "ReRpe-QexQSK"
      },
      "execution_count": null,
      "outputs": []
    },
    {
      "cell_type": "code",
      "source": [
        "udf_get_distance = udf(get_distance)"
      ],
      "metadata": {
        "id": "F66FBEjx1IKb"
      },
      "execution_count": null,
      "outputs": []
    },
    {
      "cell_type": "code",
      "source": [
        "orders_dataset = spark.sql(\"SELECT * from ordersSQL\")"
      ],
      "metadata": {
        "id": "CJaaXS5z3pzE"
      },
      "execution_count": null,
      "outputs": []
    },
    {
      "cell_type": "code",
      "source": [
        "query = (\n",
        "  orders_dataset\n",
        "    .writeStream\n",
        "    .format(\"memory\")        # store in-memory table\n",
        "    .queryName(\"all_orders\")  \n",
        "    .start()\n",
        ")"
      ],
      "metadata": {
        "id": "oqNDjKJc2Qs7"
      },
      "execution_count": null,
      "outputs": []
    },
    {
      "cell_type": "code",
      "source": [
        "order_loc_pair = orders_dataset.crossJoin(df_poi)"
      ],
      "metadata": {
        "id": "tLmO8su_1YFa"
      },
      "execution_count": null,
      "outputs": []
    },
    {
      "cell_type": "code",
      "source": [
        "query = (\n",
        "  order_loc_pair\n",
        "    .writeStream\n",
        "    .format(\"memory\")        # store in-memory table\n",
        "    .queryName(\"order_loc_join\")  \n",
        "    .start()\n",
        ")"
      ],
      "metadata": {
        "id": "AIvnymBr4rMC"
      },
      "execution_count": null,
      "outputs": []
    },
    {
      "cell_type": "code",
      "source": [
        "spark.sql(\"SELECT * FROM order_loc_join\").show(10)"
      ],
      "metadata": {
        "colab": {
          "base_uri": "https://localhost:8080/"
        },
        "id": "9AsOG0jR2crC",
        "outputId": "d0b32cef-5826-46cc-85fc-f95e88ede118"
      },
      "execution_count": null,
      "outputs": [
        {
          "output_type": "stream",
          "name": "stdout",
          "text": [
            "+--------+-------+--------+-----------+--------+---------+-------------------+------------+------+------------+-------------+\n",
            "|Order_ID|Country|Province|       City|Latitude|Longitude|          TimeStamp|Sales_Volume|POI_ID|Latitude_POI|Longitude_POI|\n",
            "+--------+-------+--------+-----------+--------+---------+-------------------+------------+------+------------+-------------+\n",
            "|456581.0| Canada|      ON|   Kingston|-76.4227| -76.3738|2022/04/22 03:25:20|       20.76| POI-1|   45.521629|   -74.085634|\n",
            "|456581.0| Canada|      ON|   Kingston|-76.4227| -76.3738|2022/04/22 03:25:20|       20.76| POI-2|   53.596345|  -114.465122|\n",
            "|456581.0| Canada|      ON|   Kingston|-76.4227| -76.3738|2022/04/22 03:25:20|       20.76| POI-3|   44.897823|   -62.987528|\n",
            "|313471.0| Canada|      ON|     Oshawa|-78.8064| -78.7803|2022/04/22 02:11:24|       55.81| POI-1|   45.521629|   -74.085634|\n",
            "|313471.0| Canada|      ON|     Oshawa|-78.8064| -78.7803|2022/04/22 02:11:24|       55.81| POI-2|   53.596345|  -114.465122|\n",
            "|313471.0| Canada|      ON|     Oshawa|-78.8064| -78.7803|2022/04/22 02:11:24|       55.81| POI-3|   44.897823|   -62.987528|\n",
            "|296186.0| Canada|      ON|Mississauga|-79.5615| -79.4881|2022/04/22 08:58:18|       73.09| POI-1|   45.521629|   -74.085634|\n",
            "|296186.0| Canada|      ON|Mississauga|-79.5615| -79.4881|2022/04/22 08:58:18|       73.09| POI-2|   53.596345|  -114.465122|\n",
            "|296186.0| Canada|      ON|Mississauga|-79.5615| -79.4881|2022/04/22 08:58:18|       73.09| POI-3|   44.897823|   -62.987528|\n",
            "|484614.0| Canada|      NS|   Elmsdale|-63.4738| -63.4518|2022/04/22 03:17:15|       38.96| POI-1|   45.521629|   -74.085634|\n",
            "+--------+-------+--------+-----------+--------+---------+-------------------+------------+------+------------+-------------+\n",
            "only showing top 10 rows\n",
            "\n"
          ]
        }
      ]
    },
    {
      "cell_type": "code",
      "source": [
        "order_poi_pair_distance = order_loc_pair.withColumn(\"ABS_DISTANCE\", \n",
        "                                                    udf_get_distance(\n",
        "                                                        order_loc_pair.Longitude, order_loc_pair.Latitude, \n",
        "                                                        order_loc_pair.Longitude_POI, order_loc_pair.Latitude_POI).cast(DoubleType()))"
      ],
      "metadata": {
        "id": "AeiRW3ub2fQS"
      },
      "execution_count": null,
      "outputs": []
    },
    {
      "cell_type": "code",
      "source": [
        "query = (\n",
        "  order_poi_pair_distance\n",
        "    .writeStream\n",
        "    .format(\"memory\")        # store in-memory table\n",
        "    .queryName(\"order_pair_poi_for\")\n",
        "    .start()\n",
        ")"
      ],
      "metadata": {
        "id": "7aD7S1_H9vMb"
      },
      "execution_count": null,
      "outputs": []
    },
    {
      "cell_type": "code",
      "source": [
        "spark.sql(\"SELECT * FROM order_pair_poi_for\").show()"
      ],
      "metadata": {
        "colab": {
          "base_uri": "https://localhost:8080/"
        },
        "id": "8pKXZOCa_vkN",
        "outputId": "d1edcbbd-c940-415a-ef32-065fa39b68e4"
      },
      "execution_count": null,
      "outputs": [
        {
          "output_type": "stream",
          "name": "stdout",
          "text": [
            "+--------+-------+--------+-----------+---------+---------+-------------------+------------+------+------------+-------------+------------------+\n",
            "|Order_ID|Country|Province|       City| Latitude|Longitude|          TimeStamp|Sales_Volume|POI_ID|Latitude_POI|Longitude_POI|      ABS_DISTANCE|\n",
            "+--------+-------+--------+-----------+---------+---------+-------------------+------------+------+------------+-------------+------------------+\n",
            "|456581.0| Canada|      ON|   Kingston| -76.4227| -76.3738|2022/04/22 03:25:20|       20.76| POI-1|   45.521629|   -74.085634| 13560.57540942165|\n",
            "|456581.0| Canada|      ON|   Kingston| -76.4227| -76.3738|2022/04/22 03:25:20|       20.76| POI-2|   53.596345|  -114.465122|14708.515156710147|\n",
            "|456581.0| Canada|      ON|   Kingston| -76.4227| -76.3738|2022/04/22 03:25:20|       20.76| POI-3|   44.897823|   -62.987528|13523.975425249477|\n",
            "|313471.0| Canada|      ON|     Oshawa| -78.8064| -78.7803|2022/04/22 02:11:24|       55.81| POI-1|   45.521629|   -74.085634|13828.167095821125|\n",
            "|313471.0| Canada|      ON|     Oshawa| -78.8064| -78.7803|2022/04/22 02:11:24|       55.81| POI-2|   53.596345|  -114.465122| 14911.74100551701|\n",
            "|313471.0| Canada|      ON|     Oshawa| -78.8064| -78.7803|2022/04/22 02:11:24|       55.81| POI-3|   44.897823|   -62.987528|13795.117309337442|\n",
            "|296186.0| Canada|      ON|Mississauga| -79.5615| -79.4881|2022/04/22 08:58:18|       73.09| POI-1|   45.521629|   -74.085634|13913.000545132365|\n",
            "|296186.0| Canada|      ON|Mississauga| -79.5615| -79.4881|2022/04/22 08:58:18|       73.09| POI-2|   53.596345|  -114.465122|14978.286686600884|\n",
            "|296186.0| Canada|      ON|Mississauga| -79.5615| -79.4881|2022/04/22 08:58:18|       73.09| POI-3|   44.897823|   -62.987528|13880.176162621146|\n",
            "|484614.0| Canada|      NS|   Elmsdale| -63.4738| -63.4518|2022/04/22 03:17:15|       38.96| POI-1|   45.521629|   -74.085634|12155.982333269325|\n",
            "|484614.0| Canada|      NS|   Elmsdale| -63.4738| -63.4518|2022/04/22 03:17:15|       38.96| POI-2|   53.596345|  -114.465122|13743.579775687887|\n",
            "|484614.0| Canada|      NS|   Elmsdale| -63.4738| -63.4518|2022/04/22 03:17:15|       38.96| POI-3|   44.897823|   -62.987528|12050.444393214335|\n",
            "|314695.0| Canada|      AB|   Edmonton|-113.4136|-113.3864|2022/04/22 18:12:53|        71.1| POI-1|   45.521629|   -74.085634| 16732.91485797118|\n",
            "|314695.0| Canada|      AB|   Edmonton|-113.4136|-113.3864|2022/04/22 18:12:53|        71.1| POI-2|   53.596345|  -114.465122|18569.474474342485|\n",
            "|314695.0| Canada|      AB|   Edmonton|-113.4136|-113.3864|2022/04/22 18:12:53|        71.1| POI-3|   44.897823|   -62.987528|16213.034677140147|\n",
            "|387373.0| Canada|      QC|       Alma| -71.6201| -71.5953|2022/04/22 17:04:44|      100.52| POI-1|   45.521629|   -74.085634|13027.059839177384|\n",
            "|387373.0| Canada|      QC|       Alma| -71.6201| -71.5953|2022/04/22 17:04:44|      100.52| POI-2|   53.596345|  -114.465122|14322.277609504961|\n",
            "|387373.0| Canada|      QC|       Alma| -71.6201| -71.5953|2022/04/22 17:04:44|      100.52| POI-3|   44.897823|   -62.987528|12974.127896648639|\n",
            "|249313.0| Canada|      AB|  Cold Lake|-110.1519| -110.083|2022/04/22 09:49:04|       90.39| POI-1|   45.521629|   -74.085634|16667.727432346484|\n",
            "|249313.0| Canada|      AB|  Cold Lake|-110.1519| -110.083|2022/04/22 09:49:04|       90.39| POI-2|   53.596345|  -114.465122|18194.416882100322|\n",
            "+--------+-------+--------+-----------+---------+---------+-------------------+------------+------+------------+-------------+------------------+\n",
            "only showing top 20 rows\n",
            "\n"
          ]
        }
      ]
    },
    {
      "cell_type": "markdown",
      "source": [
        "##**5. Shortest Distance between poi_id and order**"
      ],
      "metadata": {
        "id": "tLL0dPDlEdH6"
      }
    },
    {
      "cell_type": "code",
      "source": [
        "shortest_dist_pair = spark.sql(\"Select Order_ID, Country, Province, City, TimeStamp, Sales_Volume, POI_ID, ABS_DISTANCE as shortestDistance \n",
        "    from (select Order_ID, Country, Province, City, TimeStamp, Sales_Volume, POI_ID, ABS_DISTANCE, \n",
        "          ROW_NUMBER() OVER(PARTITION BY Order_ID ORDER BY ABS_DISTANCE ASC) as rn from order_pair_poi_for) as a where rn = 1\")"
      ],
      "metadata": {
        "id": "Rej3Kc3EEc6s"
      },
      "execution_count": null,
      "outputs": []
    },
    {
      "cell_type": "code",
      "source": [
        "shortest_dist_pair.show()"
      ],
      "metadata": {
        "colab": {
          "base_uri": "https://localhost:8080/"
        },
        "id": "GswovmVXXMvN",
        "outputId": "d65059b9-fc3c-4dd1-803a-e43f19d2e6fe"
      },
      "execution_count": null,
      "outputs": [
        {
          "output_type": "stream",
          "name": "stdout",
          "text": [
            "+--------+-------+--------+---------------+-------------------+------------+------+------------------+\n",
            "|Order_ID|Country|Province|           City|          TimeStamp|Sales_Volume|POI_ID|  shortestDistance|\n",
            "+--------+-------+--------+---------------+-------------------+------------+------+------------------+\n",
            "|200041.0| Canada|      AB|       Edmonton|2022/04/22 02:04:24|       56.69| POI-3|16209.367269379594|\n",
            "|200099.0| Canada|      ON|         Barrie|2022/04/22 22:02:27|       72.53| POI-3| 13889.52313484939|\n",
            "|200137.0| Canada|      ON|      Brantford|2022/04/22 19:30:44|       32.78| POI-3|13954.071370976626|\n",
            "|200171.0| Canada|      SK|      Saskatoon|2022/04/22 06:10:33|       81.83| POI-3|16167.766621680077|\n",
            "|200183.0| Canada|      QC|       Montréal|2022/04/22 22:58:02|       56.63| POI-3|13188.188239030185|\n",
            "|200231.0| Canada|      ON|        Toronto|2022/04/22 20:59:54|       77.48| POI-3|13857.486230055967|\n",
            "|200242.0| Canada|      ON|          Maple|2022/04/22 21:46:03|       75.66| POI-3|13877.008501755896|\n",
            "|200308.0| Canada|      AB|       Edmonton|2022/04/22 08:07:11|       24.16| POI-3|16213.958824715883|\n",
            "|200311.0| Canada|      ON|    Scarborough|2022/04/22 22:42:08|        73.8| POI-3|13840.531448719365|\n",
            "|200313.0| Canada|      ON|     North York|2022/04/22 08:08:26|       53.84| POI-3|13857.432057011318|\n",
            "|200343.0| Canada|      ON|     North York|2022/04/22 09:40:05|       65.28| POI-3| 13883.55277105928|\n",
            "|200374.0| Canada|      QC|     Sainte-Foy|2022/04/22 00:57:28|       67.34| POI-3| 12933.12339734304|\n",
            "|200402.0| Canada|      ON|      Etobicoke|2022/04/22 06:56:16|       85.11| POI-3|13875.780855673485|\n",
            "|200411.0| Canada|      ON|         London|2022/04/22 02:41:32|        71.3| POI-3|14075.198906805685|\n",
            "|200423.0| Canada|      QC|  Saint-Laurent|2022/04/22 07:30:20|       72.22| POI-3|13199.483280073235|\n",
            "|200427.0| Canada|      AB|       Edmonton|2022/04/22 23:15:59|        9.18| POI-3|16211.716737024386|\n",
            "|200472.0| Canada|      AB|        Calgary|2022/04/22 10:55:55|       90.13| POI-3|16202.413827286347|\n",
            "|200498.0| Canada|      BC|New Westminster|2022/04/22 06:31:24|       96.37| POI-3|15771.586821304587|\n",
            "|200518.0| Canada|      AB|        Calgary|2022/04/22 13:53:05|        54.2| POI-3|16203.944398515156|\n",
            "|200527.0| Canada|      AB|       Edmonton|2022/04/22 05:30:26|       10.64| POI-3|16210.497363194647|\n",
            "+--------+-------+--------+---------------+-------------------+------------+------+------------------+\n",
            "only showing top 20 rows\n",
            "\n"
          ]
        }
      ]
    },
    {
      "cell_type": "code",
      "source": [
        "print(shortest_dist_pair.count())"
      ],
      "metadata": {
        "colab": {
          "base_uri": "https://localhost:8080/"
        },
        "id": "u_HIkvroTiAJ",
        "outputId": "fcc1a06a-2ac0-4e4e-e564-652977cb318c"
      },
      "execution_count": null,
      "outputs": [
        {
          "output_type": "stream",
          "name": "stdout",
          "text": [
            "19352\n"
          ]
        }
      ]
    },
    {
      "cell_type": "code",
      "source": [
        "spark.sql(\"SELECT COUNT(*) as total_orders from all_orders\").show()"
      ],
      "metadata": {
        "colab": {
          "base_uri": "https://localhost:8080/"
        },
        "id": "JVfl-wSJBTwy",
        "outputId": "bbc4adef-7678-4fbd-a726-eb88f784d2f9"
      },
      "execution_count": null,
      "outputs": [
        {
          "output_type": "stream",
          "name": "stdout",
          "text": [
            "+------------+\n",
            "|total_orders|\n",
            "+------------+\n",
            "|       20000|\n",
            "+------------+\n",
            "\n"
          ]
        }
      ]
    },
    {
      "cell_type": "code",
      "source": [
        "spark.sql(\"SELECT COUNT(*) as total_pair from order_pair_poi_for\").show()"
      ],
      "metadata": {
        "colab": {
          "base_uri": "https://localhost:8080/"
        },
        "id": "jhP3D5XKGLqK",
        "outputId": "b7c57179-1e3d-47d5-b7c0-70fdad108e67"
      },
      "execution_count": null,
      "outputs": [
        {
          "output_type": "stream",
          "name": "stdout",
          "text": [
            "+----------+\n",
            "|total_pair|\n",
            "+----------+\n",
            "|     60000|\n",
            "+----------+\n",
            "\n"
          ]
        }
      ]
    },
    {
      "cell_type": "markdown",
      "source": [
        "##**6. For each POI, get the average, standard deviation and max of the (shortest) distances, as well as the count of the orders.**"
      ],
      "metadata": {
        "id": "WZzCL3Auw80l"
      }
    },
    {
      "cell_type": "code",
      "source": [
        "poi_1 = spark.sql(\"Select Order_ID, Country, Province, City, TimeStamp, Sales_Volume, POI_ID, ABS_DISTANCE as POI_1 from (select Order_ID, Country, Province, City, TimeStamp, Sales_Volume, POI_ID, ABS_DISTANCE, ROW_NUMBER() OVER(PARTITION BY Order_ID ORDER BY ABS_DISTANCE ASC) as rn from order_pair_poi_for) as a where rn = 2\")"
      ],
      "metadata": {
        "id": "UgoG43D3qzkP"
      },
      "execution_count": null,
      "outputs": []
    },
    {
      "cell_type": "code",
      "source": [
        "poi_1.createOrReplaceTempView(\"poi1sql\")\n",
        "poi_1.show(10)"
      ],
      "metadata": {
        "colab": {
          "base_uri": "https://localhost:8080/"
        },
        "id": "ChutOaYRxWd0",
        "outputId": "4965f0f6-8486-49cc-cc2e-9cbdf55c711a"
      },
      "execution_count": null,
      "outputs": [
        {
          "output_type": "stream",
          "name": "stdout",
          "text": [
            "+--------+-------+--------+-----------+-------------------+------------+------+------------------+\n",
            "|Order_ID|Country|Province|       City|          TimeStamp|Sales_Volume|POI_ID|             POI_1|\n",
            "+--------+-------+--------+-----------+-------------------+------------+------+------------------+\n",
            "|200021.0| Canada|      AB|    Calgary|2022/04/22 03:54:48|       28.84| POI-1|16739.114815958008|\n",
            "|200026.0| Canada|      ON|Mississauga|2022/04/22 18:07:48|       47.73| POI-1|13933.687819594936|\n",
            "|200041.0| Canada|      AB|   Edmonton|2022/04/22 02:04:24|       56.69| POI-1|16735.547913862214|\n",
            "|200099.0| Canada|      ON|     Barrie|2022/04/22 22:02:27|       72.53| POI-1|13922.339285128917|\n",
            "|200137.0| Canada|      ON|  Brantford|2022/04/22 19:30:44|       32.78| POI-1|13986.676376570755|\n",
            "|200154.0| Canada|      ON|  Etobicoke|2022/04/22 03:23:39|       47.43| POI-1|13906.197189891822|\n",
            "|200171.0| Canada|      SK|  Saskatoon|2022/04/22 06:10:33|       81.83| POI-1|16512.932512404972|\n",
            "|200183.0| Canada|      QC|   Montréal|2022/04/22 22:58:02|       56.63| POI-1|13233.614846500455|\n",
            "|200220.0| Canada|      ON| North York|2022/04/22 11:13:05|       35.73| POI-1|13889.231926505223|\n",
            "|200221.0| Canada|      ON|    Toronto|2022/04/22 12:11:31|        6.74| POI-1|13913.053183193237|\n",
            "+--------+-------+--------+-----------+-------------------+------------+------+------------------+\n",
            "only showing top 10 rows\n",
            "\n"
          ]
        }
      ]
    },
    {
      "cell_type": "code",
      "source": [
        "poi_2 = spark.sql(\"Select Order_ID, Country, Province, City, TimeStamp, Sales_Volume, POI_ID, ABS_DISTANCE as POI_2 from (select Order_ID, Country, Province, City, TimeStamp, Sales_Volume, POI_ID, ABS_DISTANCE, ROW_NUMBER() OVER(PARTITION BY Order_ID ORDER BY ABS_DISTANCE ASC) as rn from order_pair_poi_for) as a where rn = 3\")"
      ],
      "metadata": {
        "id": "XgDo0KN7xYfL"
      },
      "execution_count": null,
      "outputs": []
    },
    {
      "cell_type": "code",
      "source": [
        "poi_2.createOrReplaceTempView(\"poi2sql\")\n",
        "poi_2.show(10)"
      ],
      "metadata": {
        "colab": {
          "base_uri": "https://localhost:8080/"
        },
        "id": "8jRkvKwixpSz",
        "outputId": "de488cd6-4e85-4648-9741-6d3a9c674932"
      },
      "execution_count": null,
      "outputs": [
        {
          "output_type": "stream",
          "name": "stdout",
          "text": [
            "+--------+-------+--------+-----------+-------------------+------------+------+------------------+\n",
            "|Order_ID|Country|Province|       City|          TimeStamp|Sales_Volume|POI_ID|             POI_2|\n",
            "+--------+-------+--------+-----------+-------------------+------------+------+------------------+\n",
            "|200021.0| Canada|      AB|    Calgary|2022/04/22 03:54:48|       28.84| POI-2|18637.666676177498|\n",
            "|200026.0| Canada|      ON|Mississauga|2022/04/22 18:07:48|       47.73| POI-2|14993.946591700058|\n",
            "|200041.0| Canada|      AB|   Edmonton|2022/04/22 02:04:24|       56.69| POI-2|18598.350544352586|\n",
            "|200099.0| Canada|      ON|     Barrie|2022/04/22 22:02:27|       72.53| POI-2|14985.641290652007|\n",
            "|200137.0| Canada|      ON|  Brantford|2022/04/22 19:30:44|       32.78| POI-2|15035.657605067863|\n",
            "|200154.0| Canada|      ON|  Etobicoke|2022/04/22 03:23:39|       47.43| POI-2| 14972.50774136635|\n",
            "|200171.0| Canada|      SK|  Saskatoon|2022/04/22 06:10:33|       81.83| POI-2|17780.899294918105|\n",
            "|200183.0| Canada|      QC|   Montréal|2022/04/22 22:58:02|       56.63| POI-2| 14469.69003440266|\n",
            "|200220.0| Canada|      ON| North York|2022/04/22 11:13:05|       35.73| POI-2|14959.376808340823|\n",
            "|200221.0| Canada|      ON|    Toronto|2022/04/22 12:11:31|        6.74| POI-2|14977.975350976236|\n",
            "+--------+-------+--------+-----------+-------------------+------------+------+------------------+\n",
            "only showing top 10 rows\n",
            "\n"
          ]
        }
      ]
    },
    {
      "cell_type": "code",
      "source": [
        "poi_3 = spark.sql(\"Select Order_ID, Country, Province, City, TimeStamp, Sales_Volume, POI_ID, ABS_DISTANCE as POI_3 from (select Order_ID, Country, Province, City, TimeStamp, Sales_Volume, POI_ID, ABS_DISTANCE, ROW_NUMBER() OVER(PARTITION BY Order_ID ORDER BY ABS_DISTANCE ASC) as rn from order_pair_poi_for) as a where rn = 1\")"
      ],
      "metadata": {
        "id": "8b-Eg0Iixqq0"
      },
      "execution_count": null,
      "outputs": []
    },
    {
      "cell_type": "code",
      "source": [
        "poi_3.createOrReplaceTempView(\"poi3sql\")\n",
        "poi_3.show(10)"
      ],
      "metadata": {
        "colab": {
          "base_uri": "https://localhost:8080/"
        },
        "id": "-mOj8TFwxypc",
        "outputId": "54ea95dc-2619-4a91-c51b-34dc9bb51ecc"
      },
      "execution_count": null,
      "outputs": [
        {
          "output_type": "stream",
          "name": "stdout",
          "text": [
            "+--------+-------+--------+-----------+-------------------+------------+------+------------------+\n",
            "|Order_ID|Country|Province|       City|          TimeStamp|Sales_Volume|POI_ID|             POI_3|\n",
            "+--------+-------+--------+-----------+-------------------+------------+------+------------------+\n",
            "|200021.0| Canada|      AB|    Calgary|2022/04/22 03:54:48|       28.84| POI-3|16204.430710524315|\n",
            "|200026.0| Canada|      ON|Mississauga|2022/04/22 18:07:48|       47.73| POI-3|13901.071108403206|\n",
            "|200041.0| Canada|      AB|   Edmonton|2022/04/22 02:04:24|       56.69| POI-3|16209.367269379594|\n",
            "|200099.0| Canada|      ON|     Barrie|2022/04/22 22:02:27|       72.53| POI-3| 13889.52313484939|\n",
            "|200137.0| Canada|      ON|  Brantford|2022/04/22 19:30:44|       32.78| POI-3|13954.071370976626|\n",
            "|200154.0| Canada|      ON|  Etobicoke|2022/04/22 03:23:39|       47.43| POI-3|13873.493500468629|\n",
            "|200171.0| Canada|      SK|  Saskatoon|2022/04/22 06:10:33|       81.83| POI-3|16167.766621680077|\n",
            "|200183.0| Canada|      QC|   Montréal|2022/04/22 22:58:02|       56.63| POI-3|13188.188239030185|\n",
            "|200220.0| Canada|      ON| North York|2022/04/22 11:13:05|       35.73| POI-3|13856.437591728414|\n",
            "|200221.0| Canada|      ON|    Toronto|2022/04/22 12:11:31|        6.74| POI-3|13880.335806262176|\n",
            "+--------+-------+--------+-----------+-------------------+------------+------+------------------+\n",
            "only showing top 10 rows\n",
            "\n"
          ]
        }
      ]
    },
    {
      "cell_type": "code",
      "source": [
        "described_POI_1=poi_1.describe(\"POI_1\")"
      ],
      "metadata": {
        "id": "LMWnTjjdxznl"
      },
      "execution_count": null,
      "outputs": []
    },
    {
      "cell_type": "code",
      "source": [
        "described_POI_2 = poi_2.describe(\"POI_2\")"
      ],
      "metadata": {
        "id": "bq8ZCkRYyGDs"
      },
      "execution_count": null,
      "outputs": []
    },
    {
      "cell_type": "code",
      "source": [
        "described_POI_3=poi_3.describe(\"POI_3\")"
      ],
      "metadata": {
        "id": "KOgV3kHNyJHn"
      },
      "execution_count": null,
      "outputs": []
    },
    {
      "cell_type": "code",
      "source": [
        "described_POI_1.show()\n",
        "described_POI_2.show()\n",
        "described_POI_3.show()"
      ],
      "metadata": {
        "colab": {
          "base_uri": "https://localhost:8080/"
        },
        "id": "1dxFGEhC6r8x",
        "outputId": "f98d3067-bca0-4610-c3d7-f2b7d756f02a"
      },
      "execution_count": null,
      "outputs": [
        {
          "output_type": "stream",
          "name": "stdout",
          "text": [
            "+-------+------------------+\n",
            "|summary|             POI_1|\n",
            "+-------+------------------+\n",
            "|  count|             19352|\n",
            "|   mean|15109.827047396564|\n",
            "| stddev|1530.6776408920375|\n",
            "|    min|1712.1563208646014|\n",
            "|    max|16740.642478696762|\n",
            "+-------+------------------+\n",
            "\n",
            "+-------+------------------+\n",
            "|summary|             POI_2|\n",
            "+-------+------------------+\n",
            "|  count|             19352|\n",
            "|   mean|16560.579406317684|\n",
            "| stddev|1900.7086609756088|\n",
            "|    min|3338.7477498065414|\n",
            "|    max|19362.138962533838|\n",
            "+-------+------------------+\n",
            "\n",
            "+-------+------------------+\n",
            "|summary|             POI_3|\n",
            "+-------+------------------+\n",
            "|  count|             19352|\n",
            "|   mean| 14849.40713889063|\n",
            "| stddev|1311.4081868194046|\n",
            "|    min| 1213.195025859299|\n",
            "|    max|16235.167523975275|\n",
            "+-------+------------------+\n",
            "\n"
          ]
        }
      ]
    },
    {
      "cell_type": "code",
      "source": [
        "maxCountShort1 = spark.sql(\"SELECT POI_1, COUNT(POI_1) as countMax from poi1sql GROUP BY POI_1 HAVING countMax>1 ORDER BY countMax DESC\")\n",
        "maxCountShort1.show()"
      ],
      "metadata": {
        "colab": {
          "base_uri": "https://localhost:8080/"
        },
        "id": "XSoCk0bcXjTf",
        "outputId": "3987f5ca-0d45-46fd-aa7e-1f0590996371"
      },
      "execution_count": null,
      "outputs": [
        {
          "output_type": "stream",
          "name": "stdout",
          "text": [
            "+------------------+--------+\n",
            "|             POI_1|countMax|\n",
            "+------------------+--------+\n",
            "|13894.019384039946|       2|\n",
            "| 16731.98131773307|       2|\n",
            "|16738.054640564547|       2|\n",
            "|16733.607025889512|       2|\n",
            "|16737.923787491272|       2|\n",
            "|13895.929765918796|       2|\n",
            "|13893.159582511029|       2|\n",
            "|16736.571168994324|       2|\n",
            "|13884.328685576496|       2|\n",
            "+------------------+--------+\n",
            "\n"
          ]
        }
      ]
    },
    {
      "cell_type": "code",
      "source": [
        "maxCountShort2 = spark.sql(\"SELECT POI_2, COUNT(POI_2) as countMax from poi2sql GROUP BY POI_2 HAVING countMax>1 ORDER BY countMax DESC\")\n",
        "maxCountShort2.show()"
      ],
      "metadata": {
        "colab": {
          "base_uri": "https://localhost:8080/"
        },
        "id": "lekU0-ODcG-H",
        "outputId": "62c72c0b-77b1-44c6-9120-e464da270498"
      },
      "execution_count": null,
      "outputs": [
        {
          "output_type": "stream",
          "name": "stdout",
          "text": [
            "+------------------+--------+\n",
            "|             POI_2|countMax|\n",
            "+------------------+--------+\n",
            "|18634.829351109773|       2|\n",
            "|18639.777675442947|       2|\n",
            "|14962.189412526426|       2|\n",
            "|14955.949261189555|       2|\n",
            "|18566.090157244027|       2|\n",
            "|14963.135053134714|       2|\n",
            "| 14964.86847198125|       2|\n",
            "| 18641.05685041603|       2|\n",
            "|18569.980022897224|       2|\n",
            "+------------------+--------+\n",
            "\n"
          ]
        }
      ]
    },
    {
      "cell_type": "code",
      "source": [
        "maxCountShort3 = spark.sql(\"SELECT POI_3, COUNT(POI_3) as countMax from poi3sql GROUP BY POI_3 HAVING countMax>1 ORDER BY countMax DESC\")\n",
        "maxCountShort3.show()"
      ],
      "metadata": {
        "colab": {
          "base_uri": "https://localhost:8080/"
        },
        "id": "jOTh1Mc4cRPx",
        "outputId": "23d1c6f0-5bbf-4105-dce7-19bdd81ed23d"
      },
      "execution_count": null,
      "outputs": [
        {
          "output_type": "stream",
          "name": "stdout",
          "text": [
            "+------------------+--------+\n",
            "|             POI_3|countMax|\n",
            "+------------------+--------+\n",
            "|13860.455651864271|       2|\n",
            "|16200.975022242168|       2|\n",
            "|16214.534265161397|       2|\n",
            "|16202.696999054095|       2|\n",
            "|13861.235134899494|       2|\n",
            "|13863.078538739743|       2|\n",
            "|13851.395700546907|       2|\n",
            "|16211.925880285315|       2|\n",
            "|16203.929747694508|       2|\n",
            "+------------------+--------+\n",
            "\n"
          ]
        }
      ]
    },
    {
      "cell_type": "code",
      "source": [
        "maxCountShort1.show()\n",
        "maxCountShort2.show()\n",
        "maxCountShort3.show()"
      ],
      "metadata": {
        "colab": {
          "base_uri": "https://localhost:8080/"
        },
        "id": "7-cX8vd4ehlo",
        "outputId": "f3a5e01c-e174-431f-988b-ed1fefbc1e15"
      },
      "execution_count": null,
      "outputs": [
        {
          "output_type": "stream",
          "name": "stdout",
          "text": [
            "+------------------+--------+\n",
            "|             POI_1|countMax|\n",
            "+------------------+--------+\n",
            "|13894.019384039946|       2|\n",
            "| 16731.98131773307|       2|\n",
            "|16738.054640564547|       2|\n",
            "|16733.607025889512|       2|\n",
            "|16737.923787491272|       2|\n",
            "|13895.929765918796|       2|\n",
            "|13893.159582511029|       2|\n",
            "|16736.571168994324|       2|\n",
            "|13884.328685576496|       2|\n",
            "+------------------+--------+\n",
            "\n",
            "+------------------+--------+\n",
            "|             POI_2|countMax|\n",
            "+------------------+--------+\n",
            "|18634.829351109773|       2|\n",
            "|18639.777675442947|       2|\n",
            "|14962.189412526426|       2|\n",
            "|14955.949261189555|       2|\n",
            "|18566.090157244027|       2|\n",
            "|14963.135053134714|       2|\n",
            "| 14964.86847198125|       2|\n",
            "| 18641.05685041603|       2|\n",
            "|18569.980022897224|       2|\n",
            "+------------------+--------+\n",
            "\n",
            "+------------------+--------+\n",
            "|             POI_3|countMax|\n",
            "+------------------+--------+\n",
            "|13860.455651864271|       2|\n",
            "|16200.975022242168|       2|\n",
            "|16214.534265161397|       2|\n",
            "|16202.696999054095|       2|\n",
            "|13861.235134899494|       2|\n",
            "|13863.078538739743|       2|\n",
            "|13851.395700546907|       2|\n",
            "|16211.925880285315|       2|\n",
            "|16203.929747694508|       2|\n",
            "+------------------+--------+\n",
            "\n"
          ]
        }
      ]
    },
    {
      "cell_type": "markdown",
      "source": [
        "##**7. Based on max distance and order counts calculate the density**"
      ],
      "metadata": {
        "id": "nYZpLo34yWpZ"
      }
    },
    {
      "cell_type": "code",
      "source": [
        "import numpy as np\n",
        "\n",
        "import math\n",
        "def calculateDensity(orderCount, maxDistance):\n",
        "   density = orderCount/(math.pi*(maxDistance ** 2))\n",
        "   return density"
      ],
      "metadata": {
        "id": "F9HWtSrlyMtu"
      },
      "execution_count": null,
      "outputs": []
    },
    {
      "cell_type": "code",
      "source": [
        "orderCount = int(described_POI_1.toPandas().POI_1.values[0])\n",
        "maxDistance=maxCountShort1.toPandas().POI_1.values\n",
        "maxDistance = np.array(maxDistance)\n",
        "maxDistance = maxDistance.astype(float)\n",
        "minValue = np.amin(maxDistance)\n",
        "density_poi_1 = calculateDensity(orderCount, minValue)"
      ],
      "metadata": {
        "id": "hcbRV8_D6Jgw"
      },
      "execution_count": null,
      "outputs": []
    },
    {
      "cell_type": "code",
      "source": [
        "orderCount = int(described_POI_2.toPandas().POI_2.values[0])\n",
        "maxDistance=maxCountShort2.toPandas().POI_2.values\n",
        "maxDistance = np.array(maxDistance)\n",
        "maxDistance = maxDistance.astype(float)\n",
        "minValue = np.amin(maxDistance)\n",
        "density_poi_2 = calculateDensity(orderCount, minValue)"
      ],
      "metadata": {
        "id": "-FVoIs4LAqBz"
      },
      "execution_count": null,
      "outputs": []
    },
    {
      "cell_type": "code",
      "source": [
        "orderCount = int(described_POI_3.toPandas().POI_3.values[0])\n",
        "maxDistance=maxCountShort3.toPandas().POI_3.values\n",
        "maxDistance = np.array(maxDistance)\n",
        "maxDistance = maxDistance.astype(float)\n",
        "minValue = np.amin(maxDistance)\n",
        "density_poi_3 = calculateDensity(orderCount, minValue)"
      ],
      "metadata": {
        "id": "urbe-q2sQ9ai"
      },
      "execution_count": null,
      "outputs": []
    },
    {
      "cell_type": "code",
      "source": [
        "\n",
        "print(\"Density of POI 1 =\", density_poi_1)\n",
        "\n",
        "print(\"Density of POI 2 =\", density_poi_2)\n",
        "\n",
        "print(\"Density of POI 3 =\", density_poi_3)"
      ],
      "metadata": {
        "colab": {
          "base_uri": "https://localhost:8080/"
        },
        "id": "JDcyIlprez7r",
        "outputId": "e208d5fd-4081-41f5-c1c2-f3019d2c7fcf"
      },
      "execution_count": null,
      "outputs": [
        {
          "output_type": "stream",
          "name": "stdout",
          "text": [
            "Density of POI 1 = 2.7538990512244087e-05\n",
            "Density of POI 2 = 2.7538990512244087e-05\n",
            "Density of POI 3 = 3.210620026390737e-05\n"
          ]
        }
      ]
    },
    {
      "cell_type": "code",
      "source": [
        ""
      ],
      "metadata": {
        "id": "LFg78x-dQ-2t"
      },
      "execution_count": null,
      "outputs": []
    }
  ],
  "metadata": {
    "colab": {
      "collapsed_sections": [],
      "name": "Assignment2DataCollectionAndCuration",
      "provenance": [],
      "include_colab_link": true
    },
    "kernelspec": {
      "display_name": "Python 3",
      "name": "python3"
    }
  },
  "nbformat": 4,
  "nbformat_minor": 0
}